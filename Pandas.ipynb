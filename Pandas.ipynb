{
 "cells": [
  {
   "cell_type": "code",
   "execution_count": 2,
   "id": "8461cdd3",
   "metadata": {},
   "outputs": [],
   "source": [
    "import pandas as pd\n",
    "\n",
    "\n",
    "# data = pd.read_csv('CSV2.csv')\n",
    "# data\n",
    "# data.info()\n",
    "# data.head()\n",
    "# data.tail()\n",
    "# data['Price']\n",
    "# data.describe()\n",
    "# x=data.drop(columns=['Price'])\n",
    "# x\n",
    "# data['Age']\n",
    "\n",
    "# hello =data[data['Age']<5]\n",
    "\n",
    "# print(hello)\n",
    "\n",
    "# data = {'name':['hari', 'shyam'], 'Age':[12, 35]}\n",
    "# new = pd.DataFrame(data)\n",
    "# new\n",
    "\n",
    "# data1 = pd.read_json('https://jsonplaceholder.typicode.com/todos/')\n",
    "# print(data1)"
   ]
  },
  {
   "cell_type": "code",
   "execution_count": 42,
   "id": "3ead2a3f",
   "metadata": {},
   "outputs": [
    {
     "data": {
      "text/plain": [
       "array([ 1,  2, 10, 20])"
      ]
     },
     "execution_count": 42,
     "metadata": {},
     "output_type": "execute_result"
    }
   ],
   "source": [
    "import numpy as np\n",
    "# arr1=np.array([18,3,10,6,15])\n",
    "# arr2=np.array([18,15,10,6,15])\n",
    "# # print(arr1+arr2)\n",
    "# # print(arr1-arr2)\n",
    "# # print(arr1*arr2)\n",
    "# # print(arr1/arr2)\n",
    "# # np.max(arr1)\n",
    "\n",
    "# # zeros=np.zeros((1,2))\n",
    "# # zeros\n",
    "\n",
    "# # matrix=np.random.rand(2,3)*5\n",
    "# # matrix\n",
    "# new_arr=np.array([10,20,1,2,2,2,2])\n",
    "# sum(new_arr)\n",
    "# #array slicing\n",
    "# new_arr[0:3]\n",
    "# a=np.mean(new_arr)\n",
    "# a\n",
    "\n",
    "# b=np.unique(new_arr)\n",
    "# b"
   ]
  },
  {
   "cell_type": "code",
   "execution_count": 25,
   "id": "848deb09",
   "metadata": {},
   "outputs": [
    {
     "name": "stderr",
     "output_type": "stream",
     "text": [
      "D:\\anaconda\\Lib\\site-packages\\sklearn\\base.py:439: UserWarning: X does not have valid feature names, but DecisionTreeClassifier was fitted with feature names\n",
      "  warnings.warn(\n"
     ]
    },
    {
     "data": {
      "text/plain": [
       "['weight1.joblib']"
      ]
     },
     "execution_count": 25,
     "metadata": {},
     "output_type": "execute_result"
    }
   ],
   "source": [
    "import pandas as pd\n",
    "import numpy as np\n",
    "import joblib\n",
    "from sklearn.tree import DecisionTreeClassifier\n",
    "from sklearn.model_selection import train_test_split\n",
    "from sklearn.metrics import accuracy_score\n",
    "data=pd.read_csv('CSV4.csv')\n",
    "\n",
    "x = data.drop(columns=['Weight'])\n",
    "\n",
    "y= data.drop(columns=['Age','Height'])\n",
    "\n",
    "#Creating Train Model\n",
    "model = DecisionTreeClassifier()\n",
    "\n",
    "#importing our input and output data in the model\n",
    "model.fit(x,y)\n",
    "#making Prediction\n",
    "prediction = model.predict([[22,200]])\n",
    "#10,3 is our input\n",
    "prediction\n",
    "joblib.dump(model,'weight1.joblib')\n",
    "\n",
    "\n"
   ]
  },
  {
   "cell_type": "code",
   "execution_count": 3,
   "id": "4792592c",
   "metadata": {},
   "outputs": [
    {
     "data": {
      "text/plain": [
       "['weight-prediction.joblib']"
      ]
     },
     "execution_count": 3,
     "metadata": {},
     "output_type": "execute_result"
    }
   ],
   "source": [
    "##### import pandas as pd\n",
    "from sklearn.tree import DecisionTreeClassifier\n",
    "from sklearn.model_selection import train_test_split\n",
    "from sklearn.metrics import accuracy_score\n",
    "data=pd.read_csv('score.csv')\n",
    "data\n",
    "x=data.drop(columns=['total','Exam Score'])\n",
    "x\n",
    "y=data['Exam Score']\n",
    "y\n",
    "# x_train,x_test,y_train,y_test=train_test_split(x,y,test_size=0.1)\n",
    "model =DecisionTreeClassifier()\n",
    "model.fit(x,y)\n",
    "joblib.dump(model,'weight-prediction.joblib')\n",
    "# prediction= model.predict(x_test)\n",
    "# prediction\n",
    "# score=accuracy_score(y_test,prediction)\n",
    "# score\n"
   ]
  },
  {
   "cell_type": "code",
   "execution_count": 1,
   "id": "8594b158",
   "metadata": {},
   "outputs": [
    {
     "ename": "NameError",
     "evalue": "name 'model' is not defined",
     "output_type": "error",
     "traceback": [
      "\u001b[1;31m---------------------------------------------------------------------------\u001b[0m",
      "\u001b[1;31mNameError\u001b[0m                                 Traceback (most recent call last)",
      "Cell \u001b[1;32mIn[1], line 4\u001b[0m\n\u001b[0;32m      2\u001b[0m \u001b[38;5;28;01mfrom\u001b[39;00m \u001b[38;5;21;01msklearn\u001b[39;00m\u001b[38;5;21;01m.\u001b[39;00m\u001b[38;5;21;01mtree\u001b[39;00m \u001b[38;5;28;01mimport\u001b[39;00m DecisionTreeClassifier\n\u001b[0;32m      3\u001b[0m \u001b[38;5;28;01mimport\u001b[39;00m \u001b[38;5;21;01mjoblib\u001b[39;00m\n\u001b[1;32m----> 4\u001b[0m joblib\u001b[38;5;241m.\u001b[39mdump(model,\u001b[38;5;124m'\u001b[39m\u001b[38;5;124mweight-prediction.joblib\u001b[39m\u001b[38;5;124m'\u001b[39m)\n",
      "\u001b[1;31mNameError\u001b[0m: name 'model' is not defined"
     ]
    }
   ],
   "source": [
    "import pandas as pd\n",
    "from sklearn.tree import DecisionTreeClassifier\n",
    "import joblib\n",
    "joblib.dump(model,'weight-prediction.joblib')"
   ]
  }
 ],
 "metadata": {
  "kernelspec": {
   "display_name": "Python 3 (ipykernel)",
   "language": "python",
   "name": "python3"
  },
  "language_info": {
   "codemirror_mode": {
    "name": "ipython",
    "version": 3
   },
   "file_extension": ".py",
   "mimetype": "text/x-python",
   "name": "python",
   "nbconvert_exporter": "python",
   "pygments_lexer": "ipython3",
   "version": "3.11.3"
  }
 },
 "nbformat": 4,
 "nbformat_minor": 5
}
